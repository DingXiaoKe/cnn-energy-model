{
 "cells": [
  {
   "cell_type": "code",
   "execution_count": 30,
   "metadata": {
    "collapsed": false
   },
   "outputs": [],
   "source": [
    "import theano\n",
    "from theano import tensor as T\n",
    "import lasagne\n",
    "from lasagne.layers import *\n",
    "from lasagne.objectives import *\n",
    "from lasagne.nonlinearities import *\n",
    "from lasagne.updates import *\n",
    "import numpy as np\n",
    "import cPickle as pickle\n",
    "import gzip\n",
    "import matplotlib.pyplot as plt\n",
    "%matplotlib inline\n",
    "%load_ext rpy2.ipython"
   ]
  },
  {
   "cell_type": "code",
   "execution_count": 2,
   "metadata": {
    "collapsed": false
   },
   "outputs": [],
   "source": [
    "with gzip.open(\"mnist.pkl.gz\") as f:\n",
    "    dat = pickle.load(f)"
   ]
  },
  {
   "cell_type": "code",
   "execution_count": 3,
   "metadata": {
    "collapsed": false
   },
   "outputs": [],
   "source": [
    "train_data, valid_data, test_data = dat"
   ]
  },
  {
   "cell_type": "code",
   "execution_count": 4,
   "metadata": {
    "collapsed": false
   },
   "outputs": [],
   "source": [
    "X_train, y_train = train_data\n",
    "X_train = X_train.reshape((X_train.shape[0], 1, 28, 28) )\n",
    "X_test, y_test = test_data\n",
    "X_test = X_test.reshape((X_test.shape[0], 1, 28, 28) )"
   ]
  },
  {
   "cell_type": "code",
   "execution_count": 87,
   "metadata": {
    "collapsed": false
   },
   "outputs": [],
   "source": [
    "X_not9 = X_train[ y_train != 9 ]\n",
    "X_9 = X_train[ y_train == 9 ]\n",
    "X_3 = X_train[ y_train == 3 ]"
   ]
  },
  {
   "cell_type": "code",
   "execution_count": 6,
   "metadata": {
    "collapsed": false
   },
   "outputs": [
    {
     "data": {
      "text/plain": [
       "<matplotlib.image.AxesImage at 0x103bacf50>"
      ]
     },
     "execution_count": 6,
     "metadata": {},
     "output_type": "execute_result"
    },
    {
     "data": {
      "image/png": "[encoded data removed]",
      "text/plain": [
       "<matplotlib.figure.Figure at 0x10473aed0>"
      ]
     },
     "metadata": {},
     "output_type": "display_data"
    }
   ],
   "source": [
    "plt.imshow(X_test[0][0], cmap=\"gray\")"
   ]
  },
  {
   "cell_type": "code",
   "execution_count": 70,
   "metadata": {
    "collapsed": true
   },
   "outputs": [],
   "source": [
    "def net():\n",
    "    l_in = InputLayer( (None, 1, 28, 28) )\n",
    "    l_conv = l_in\n",
    "    for i in range(0, 3):\n",
    "        l_conv = Conv2DLayer(l_conv, num_filters=(i+1)*32, filter_size=3, nonlinearity=tanh)\n",
    "        if i != 2:\n",
    "            l_conv = MaxPool2DLayer(l_conv, pool_size=2)\n",
    "    l_conv = Conv2DLayer(l_conv, num_filters=3*32, filter_size=3, nonlinearity=tanh)\n",
    "    #l_conv = DenseLayer(l_conv, num_units=128, nonlinearity=tanh)\n",
    "    return l_conv"
   ]
  },
  {
   "cell_type": "code",
   "execution_count": 71,
   "metadata": {
    "collapsed": false
   },
   "outputs": [
    {
     "name": "stdout",
     "output_type": "stream",
     "text": [
      "<lasagne.layers.input.InputLayer object at 0x10e36a510> (None, 1, 28, 28)\n",
      "<lasagne.layers.conv.Conv2DLayer object at 0x10e302d10> (None, 32, 26, 26)\n",
      "<lasagne.layers.pool.MaxPool2DLayer object at 0x10e33ce10> (None, 32, 13, 13)\n",
      "<lasagne.layers.conv.Conv2DLayer object at 0x10e2d7d10> (None, 64, 11, 11)\n",
      "<lasagne.layers.pool.MaxPool2DLayer object at 0x10980ce10> (None, 64, 5, 5)\n",
      "<lasagne.layers.conv.Conv2DLayer object at 0x10e314590> (None, 96, 3, 3)\n",
      "<lasagne.layers.conv.Conv2DLayer object at 0x10e2c6f50> (None, 96, 1, 1)\n",
      "157248\n"
     ]
    }
   ],
   "source": [
    "for layer in get_all_layers(net()):\n",
    "    print layer, layer.output_shape\n",
    "print count_params(layer)"
   ]
  },
  {
   "cell_type": "code",
   "execution_count": 72,
   "metadata": {
    "collapsed": false
   },
   "outputs": [],
   "source": [
    "X = T.tensor4('X')\n",
    "b_prime = theano.shared( np.ones( (1, 28, 28) ) )\n",
    "net_cfg = net()\n",
    "net_out = get_output(net_cfg, X)\n",
    "energy = 0.5*((b_prime - X)**2).sum(axis=[1,2,3]).mean() - net_out.sum(axis=[1,2,3]).mean()\n",
    "#loss = (( X - T.grad(energy, X) )**2)\n",
    "loss = ((-T.grad(energy, X))**2).sum(axis=[1,2,3]).mean()"
   ]
  },
  {
   "cell_type": "code",
   "execution_count": 184,
   "metadata": {
    "collapsed": false
   },
   "outputs": [
    {
     "data": {
      "text/plain": [
       "array(25.673517037506663)"
      ]
     },
     "execution_count": 184,
     "metadata": {},
     "output_type": "execute_result"
    }
   ],
   "source": [
    "loss.eval({X: X_train[0:5]})"
   ]
  },
  {
   "cell_type": "code",
   "execution_count": 73,
   "metadata": {
    "collapsed": false
   },
   "outputs": [],
   "source": [
    "params = get_all_params(net_cfg, trainable=True)\n",
    "params += [b_prime]\n",
    "#updates = nesterov_momentum(loss, params, learning_rate=0.01, momentum=0.9)\n",
    "updates = rmsprop(loss, params, learning_rate=0.01)\n",
    "train_fn = theano.function([X], loss, updates=updates)"
   ]
  },
  {
   "cell_type": "code",
   "execution_count": 74,
   "metadata": {
    "collapsed": true
   },
   "outputs": [],
   "source": [
    "energy_fn = theano.function([X], energy)"
   ]
  },
  {
   "cell_type": "code",
   "execution_count": 75,
   "metadata": {
    "collapsed": false
   },
   "outputs": [],
   "source": [
    "def iterate(X_train, bs):\n",
    "    b = 0\n",
    "    while True:\n",
    "        if b*bs >= X_train.shape[0]:\n",
    "            break\n",
    "        yield X_train[b*bs:(b+1)*bs]\n",
    "        b += 1"
   ]
  },
  {
   "cell_type": "code",
   "execution_count": 76,
   "metadata": {
    "collapsed": false
   },
   "outputs": [
    {
     "name": "stdout",
     "output_type": "stream",
     "text": [
      "1 0.245334571129\n",
      "2 0.0387337174685\n",
      "3 0.0376707440458\n",
      "4 0.0376701988361\n",
      "5 0.0376733688782\n",
      "6 0.0376759293012\n",
      "7 0.0376674773649\n",
      "8 0.0376685520413\n",
      "9 0.0376783421032\n",
      "10 0.0376770542887\n",
      "11 0.0376715119239\n",
      "12 0.0376670271901\n",
      "13 0.0376799974538\n",
      "14 0.0376749821804\n",
      "15 0.0376702006665\n",
      "16 0.0376657898677\n"
     ]
    },
    {
     "ename": "KeyboardInterrupt",
     "evalue": "",
     "output_type": "error",
     "traceback": [
      "\u001b[0;31m---------------------------------------------------------------------------\u001b[0m",
      "\u001b[0;31mKeyboardInterrupt\u001b[0m                         Traceback (most recent call last)",
      "\u001b[0;32m<ipython-input-76-8dec17bf4ba4>\u001b[0m in \u001b[0;36m<module>\u001b[0;34m()\u001b[0m\n\u001b[1;32m      6\u001b[0m     \u001b[0mlosses\u001b[0m \u001b[0;34m=\u001b[0m \u001b[0;34m[\u001b[0m\u001b[0;34m]\u001b[0m\u001b[0;34m\u001b[0m\u001b[0m\n\u001b[1;32m      7\u001b[0m     \u001b[0;32mfor\u001b[0m \u001b[0mX_batch\u001b[0m \u001b[0;32min\u001b[0m \u001b[0miterate\u001b[0m\u001b[0;34m(\u001b[0m\u001b[0mX_9\u001b[0m\u001b[0;34m,\u001b[0m \u001b[0mbs\u001b[0m\u001b[0;34m=\u001b[0m\u001b[0;36m32\u001b[0m\u001b[0;34m)\u001b[0m\u001b[0;34m:\u001b[0m\u001b[0;34m\u001b[0m\u001b[0m\n\u001b[0;32m----> 8\u001b[0;31m         \u001b[0mlosses\u001b[0m\u001b[0;34m.\u001b[0m\u001b[0mappend\u001b[0m\u001b[0;34m(\u001b[0m \u001b[0mtrain_fn\u001b[0m\u001b[0;34m(\u001b[0m\u001b[0mX_batch\u001b[0m\u001b[0;34m)\u001b[0m \u001b[0;34m)\u001b[0m\u001b[0;34m\u001b[0m\u001b[0m\n\u001b[0m\u001b[1;32m      9\u001b[0m     \u001b[0;32mprint\u001b[0m \u001b[0mepoch\u001b[0m\u001b[0;34m+\u001b[0m\u001b[0;36m1\u001b[0m\u001b[0;34m,\u001b[0m \u001b[0mnp\u001b[0m\u001b[0;34m.\u001b[0m\u001b[0mmean\u001b[0m\u001b[0;34m(\u001b[0m\u001b[0mlosses\u001b[0m\u001b[0;34m)\u001b[0m\u001b[0;34m\u001b[0m\u001b[0m\n",
      "\u001b[0;32m//anaconda/lib/python2.7/site-packages/Theano-0.8.0.dev0-py2.7.egg/theano/compile/function_module.pyc\u001b[0m in \u001b[0;36m__call__\u001b[0;34m(self, *args, **kwargs)\u001b[0m\n\u001b[1;32m    857\u001b[0m         \u001b[0mt0_fn\u001b[0m \u001b[0;34m=\u001b[0m \u001b[0mtime\u001b[0m\u001b[0;34m.\u001b[0m\u001b[0mtime\u001b[0m\u001b[0;34m(\u001b[0m\u001b[0;34m)\u001b[0m\u001b[0;34m\u001b[0m\u001b[0m\n\u001b[1;32m    858\u001b[0m         \u001b[0;32mtry\u001b[0m\u001b[0;34m:\u001b[0m\u001b[0;34m\u001b[0m\u001b[0m\n\u001b[0;32m--> 859\u001b[0;31m             \u001b[0moutputs\u001b[0m \u001b[0;34m=\u001b[0m \u001b[0mself\u001b[0m\u001b[0;34m.\u001b[0m\u001b[0mfn\u001b[0m\u001b[0;34m(\u001b[0m\u001b[0;34m)\u001b[0m\u001b[0;34m\u001b[0m\u001b[0m\n\u001b[0m\u001b[1;32m    860\u001b[0m         \u001b[0;32mexcept\u001b[0m \u001b[0mException\u001b[0m\u001b[0;34m:\u001b[0m\u001b[0;34m\u001b[0m\u001b[0m\n\u001b[1;32m    861\u001b[0m             \u001b[0;32mif\u001b[0m \u001b[0mhasattr\u001b[0m\u001b[0;34m(\u001b[0m\u001b[0mself\u001b[0m\u001b[0;34m.\u001b[0m\u001b[0mfn\u001b[0m\u001b[0;34m,\u001b[0m \u001b[0;34m'position_of_error'\u001b[0m\u001b[0;34m)\u001b[0m\u001b[0;34m:\u001b[0m\u001b[0;34m\u001b[0m\u001b[0m\n",
      "\u001b[0;31mKeyboardInterrupt\u001b[0m: "
     ]
    }
   ],
   "source": [
    "num_epochs=100\n",
    "idxs = [x for x in range(0, X_9.shape[0])]\n",
    "for epoch in range(0, num_epochs):\n",
    "    np.random.shuffle(idxs)\n",
    "    X_9 = X_9[idxs]\n",
    "    losses = []\n",
    "    for X_batch in iterate(X_9, bs=32):\n",
    "        losses.append( train_fn(X_batch) )\n",
    "    print epoch+1, np.mean(losses)"
   ]
  },
  {
   "cell_type": "code",
   "execution_count": 107,
   "metadata": {
    "collapsed": true
   },
   "outputs": [],
   "source": [
    "e_9 = []\n",
    "e_3 = []\n",
    "for i in range(0, X_9.shape[0]):\n",
    "    e_9.append( float(energy_fn(X_9[i:i+1])) )\n",
    "for i in range(0, X_3.shape[0]):\n",
    "    e_3.append( float(energy_fn(X_3[i:i+1])) )"
   ]
  },
  {
   "cell_type": "code",
   "execution_count": 89,
   "metadata": {
    "collapsed": false
   },
   "outputs": [
    {
     "data": {
      "text/plain": [
       "[100.2609712236458,\n",
       " 104.55997294984536,\n",
       " 102.81218826463073,\n",
       " 106.6261674036484,\n",
       " 102.44399231680026,\n",
       " 98.5537181283818,\n",
       " 108.51464832319131,\n",
       " 105.4326486911864,\n",
       " 99.37511336161779,\n",
       " 120.33119332034155]"
      ]
     },
     "execution_count": 89,
     "metadata": {},
     "output_type": "execute_result"
    }
   ],
   "source": [
    "e_9[0:10]"
   ]
  },
  {
   "cell_type": "code",
   "execution_count": 108,
   "metadata": {
    "collapsed": false
   },
   "outputs": [
    {
     "data": {
      "text/plain": [
       "[117.89047100971622,\n",
       " 113.71329733918472,\n",
       " 131.03202974769684,\n",
       " 133.09428289325857,\n",
       " 116.63227986599357,\n",
       " 108.0833905640335,\n",
       " 120.1447500009323,\n",
       " 117.48122221263901,\n",
       " 114.07560227478015,\n",
       " 120.98559445067697]"
      ]
     },
     "execution_count": 108,
     "metadata": {},
     "output_type": "execute_result"
    }
   ],
   "source": [
    "e_3[0:10]"
   ]
  },
  {
   "cell_type": "code",
   "execution_count": 109,
   "metadata": {
    "collapsed": false
   },
   "outputs": [],
   "source": [
    "e_noise = []\n",
    "for i in range(0, X_9.shape[0]):\n",
    "    e_noise.append( float(energy_fn(np.random.normal(0, 0.1, size=X_train[0:1].shape))) )"
   ]
  },
  {
   "cell_type": "code",
   "execution_count": 110,
   "metadata": {
    "collapsed": false
   },
   "outputs": [
    {
     "data": {
      "text/plain": [
       "(103.30568880565295, 115.04256936518397, 111.41676891444729)"
      ]
     },
     "execution_count": 110,
     "metadata": {},
     "output_type": "execute_result"
    }
   ],
   "source": [
    "np.median(e_9), np.median(e_not9), np.median(e_noise)"
   ]
  },
  {
   "cell_type": "code",
   "execution_count": 111,
   "metadata": {
    "collapsed": false
   },
   "outputs": [
    {
     "data": {
      "text/plain": [
       "(6.6489299708800669, 9.7263463502792078)"
      ]
     },
     "execution_count": 111,
     "metadata": {},
     "output_type": "execute_result"
    }
   ],
   "source": [
    "np.std(e_9), np.std(e_not9)"
   ]
  },
  {
   "cell_type": "code",
   "execution_count": 46,
   "metadata": {
    "collapsed": false
   },
   "outputs": [
    {
     "data": {
      "text/plain": [
       "(1, 28, 28)"
      ]
     },
     "execution_count": 46,
     "metadata": {},
     "output_type": "execute_result"
    }
   ],
   "source": [
    "b_prime.get_value().shape"
   ]
  },
  {
   "cell_type": "code",
   "execution_count": 104,
   "metadata": {
    "collapsed": false
   },
   "outputs": [
    {
     "data": {
      "text/plain": [
       "<matplotlib.image.AxesImage at 0x117a72150>"
      ]
     },
     "execution_count": 104,
     "metadata": {},
     "output_type": "execute_result"
    },
    {
     "data": {
      "image/png": "[encoded data removed]",
      "text/plain": [
       "<matplotlib.figure.Figure at 0x1179b2c50>"
      ]
     },
     "metadata": {},
     "output_type": "display_data"
    }
   ],
   "source": [
    "plt.imshow(np.random.normal(0, 0.1, size=X_train[0:1].shape)[0][0], cmap=\"gray\")"
   ]
  },
  {
   "cell_type": "code",
   "execution_count": 105,
   "metadata": {
    "collapsed": false
   },
   "outputs": [
    {
     "data": {
      "text/plain": [
       "array(111.25982392883101)"
      ]
     },
     "execution_count": 105,
     "metadata": {},
     "output_type": "execute_result"
    }
   ],
   "source": [
    "energy_fn( np.random.normal(0, 0.1, size=X_train[0:1].shape))"
   ]
  },
  {
   "cell_type": "markdown",
   "metadata": {},
   "source": [
    "-----"
   ]
  },
  {
   "cell_type": "code",
   "execution_count": 112,
   "metadata": {
    "collapsed": true
   },
   "outputs": [],
   "source": [
    "%Rpush e_9 e_3 e_noise"
   ]
  },
  {
   "cell_type": "code",
   "execution_count": 117,
   "metadata": {
    "collapsed": false
   },
   "outputs": [
    {
     "data": {
      "image/png": "[encoded data removed]"
     },
     "metadata": {},
     "output_type": "display_data"
    }
   ],
   "source": [
    "%%R\n",
    "boxplot(e_9, e_3, e_noise)"
   ]
  },
  {
   "cell_type": "code",
   "execution_count": null,
   "metadata": {
    "collapsed": true
   },
   "outputs": [],
   "source": []
  }
 ],
 "metadata": {
  "kernelspec": {
   "display_name": "Python 2",
   "language": "python",
   "name": "python2"
  },
  "language_info": {
   "codemirror_mode": {
    "name": "ipython",
    "version": 2
   },
   "file_extension": ".py",
   "mimetype": "text/x-python",
   "name": "python",
   "nbconvert_exporter": "python",
   "pygments_lexer": "ipython2",
   "version": "2.7.11"
  }
 },
 "nbformat": 4,
 "nbformat_minor": 0
}
